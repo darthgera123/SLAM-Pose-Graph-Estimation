{
 "cells": [
  {
   "cell_type": "markdown",
   "metadata": {},
   "source": [
    "General information like installation instructions in this supplementary notebook \"Project-1_Code-Walkthrough\". Please take a glance at this notebook completely before you start this assignment."
   ]
  },
  {
   "cell_type": "markdown",
   "metadata": {},
   "source": [
    "### Installation instructions\n",
    "Use Python 3.5+.\n",
    "You'll need jax, EVO, g2o for this project. Don't worry, I have provided sufficient details below for you to get started quickly. Note that the instructions are for Linux and if you are using any other OS, you'll have to go through their respective webpages.\n",
    "\n",
    "If you face any issues related to coding/installation, please raise an [issue here](https://github.com/Shubodh/MR-project1-pgo/issues). For any conceptual doubts, you can ask on Moodle or Teams as usual."
   ]
  },
  {
   "cell_type": "markdown",
   "metadata": {},
   "source": [
    "## 1. Installing and using JAX\n",
    "\n",
    "JAX is an auto-differentiation library for native Python and Numpy code which does gradient-based optimization. Auto-differentiation forms the backbone of deep learning libraries like PyTorch.\n",
    "\n",
    "Activate your standard environment from Assignment-3. Then   \n",
    "```\n",
    "pip install --upgrade pip     \n",
    "pip install --upgrade jax jaxlib \n",
    "```\n",
    "\n",
    "[See this](https://github.com/google/jax#installation) for more information. (CPU version should be enough for this project.)"
   ]
  },
  {
   "cell_type": "code",
   "execution_count": 1,
   "metadata": {},
   "outputs": [],
   "source": [
    "import jax.numpy as jnp\n",
    "\"\"\"\n",
    "Basically, use \"jnp\" instead of using \"np\", our favourite numpy library. \n",
    "All functions work as it is (at least that are required for this project).\n",
    "Be careful though:\n",
    "JAX works on python functions that are \"functionally pure\": \n",
    "For the sake of our project, that just means using array datatype everywhere \n",
    "(or 'jnp.array()' in particular) instead of using other datatype, say lists for\n",
    "storing arrays or matrices. Whenever you face some datatype issue with jax, \n",
    "first try to convert it to jax numpy array using `jnp.array()`.\n",
    "\n",
    "Tip: In my experience, jnp's errors didn't seem very readable as compared to np.\n",
    "So use \"np\" first for most of the code and the moment the necessity for \"jnp\" starts, \n",
    "replace all np's with jnp's. Directly replacing should work fine. This is only a tip for easier \n",
    "debugging. Please note when you're submitting, there should be only `jax.numpy`.\n",
    "\n",
    "\"\"\"\n",
    "from jax import jacfwd"
   ]
  },
  {
   "cell_type": "code",
   "execution_count": 2,
   "metadata": {},
   "outputs": [
    {
     "name": "stderr",
     "output_type": "stream",
     "text": [
      "/home/gera/anaconda3/envs/mr_assignment1/lib/python3.7/site-packages/jax/lib/xla_bridge.py:130: UserWarning: No GPU/TPU found, falling back to CPU.\n",
      "  warnings.warn('No GPU/TPU found, falling back to CPU.')\n"
     ]
    },
    {
     "data": {
      "text/plain": [
       "DeviceArray([[ 0.07388726,  0.1591418 ,  0.10940998],\n",
       "             [ 0.20861849, -0.2560318 ,  0.03555997],\n",
       "             [ 0.12171669,  0.01404423, -0.3042917 ],\n",
       "             [ 0.17407253, -0.58573055,  0.3269741 ]], dtype=float32)"
      ]
     },
     "execution_count": 2,
     "metadata": {},
     "output_type": "execute_result"
    }
   ],
   "source": [
    "# Define some simple function.\n",
    "def sigmoid(x):\n",
    "    return 0.5 * (jnp.tanh(x / 2) + 1)\n",
    "# Note that here, I want a derivative of a \"vector\" output function (inputs*a + b is a vector) wrt a input \n",
    "# \"vector\" a at a0: Derivative of vector wrt another vector is a matrix: The Jacobian\n",
    "def simpleJ(a, b, inputs): #inputs is a matrix, a & b are vectors\n",
    "    return sigmoid(jnp.dot(inputs, a) + b)\n",
    "\n",
    "inputs = jnp.array([[0.52, 1.12,  0.77],\n",
    "                   [0.88, -1.08, 0.15],\n",
    "                   [0.52, 0.06, -1.30],\n",
    "                   [0.74, -2.49, 1.39]])\n",
    "\n",
    "b = jnp.array([0.2, 0.1, 0.3, 0.2])\n",
    "a0 = jnp.array([0.1,0.7,0.7])\n",
    "\n",
    "# Isolate the function: variables to be differentiated from the constant parameters\n",
    "f = lambda a: simpleJ(a, b, inputs) # Now f is just a function of variable to be differentiated\n",
    "\n",
    "J = jacfwd(f)\n",
    "# Till now I have only calculated the derivative, it still needs to be evaluated at a0.\n",
    "J(a0)"
   ]
  },
  {
   "cell_type": "markdown",
   "metadata": {},
   "source": [
    "## 2. Using EVO\n",
    "[EVO](https://github.com/MichaelGrupp/evo/) is a SLAM evaluation based library for handling, evaluating and comparing the trajectory output of odometry and SLAM algorithms.\n",
    "\n",
    "```\n",
    "pip3 install evo --upgrade --no-binary evo\n",
    "\n",
    "```\n",
    "See [EVO](https://github.com/MichaelGrupp/evo/) for more info. EVO doesn't directly support `g2o` format. We have to first convert `g2o` to `kitti`. A small script named `g2o_to_kitti.py` which does exactly this has been provided in `misc` folder. `python input_file.g2o name_of_output_file.kitti` to convert it to `kitti` format. Ex: `python gt.g2o gt.kitti`.\n",
    "\n",
    "Now that it is in `kitti` format, run\n",
    "```\n",
    "evo_rpe kitti gt.kitti opt.kitti -v --plot --plot_mode xy\n",
    "evo_ape kitti gt.kitti opt.kitti -v --plot --plot_mode xy\n",
    "evo_traj kitti gt.kitti opt.kitti -v --plot --plot_mode xy\n",
    "```\n",
    "Using EVO, the bare minimum you have to report is `mean absolute pose error (ape)` and `mean relative pose error (rpe)`. However, you are encouraged to use tools like `evo_traj` and [more](https://github.com/MichaelGrupp/evo/#command-line-interface). Marks will be awarded based on overall analysis & presentation which would reflect your understanding.\n",
    "Note that `EVO` and `g2o_viewer` could help you in debugging."
   ]
  },
  {
   "cell_type": "markdown",
   "metadata": {},
   "source": [
    "## 3. Setting up g2o\n",
    "g2o is an open-source C++ framework for optimizing graph-based nonlinear error functions. We will be using g2o's binaries in this project.\n",
    "\n",
    "More regarding g2o from their homepage:\n",
    ">A wide range of problems in robotics as well as in computer-vision involve the minimization of a non-linear error function that can be represented as a graph. Typical instances are simultaneous localization and mapping (SLAM) or bundle adjustment (BA). The overall goal in these problems is to find the configuration of parameters or state variables that maximally explain a set of measurements affected by Gaussian noise. g2o is an open-source C++ framework for such nonlinear least squares problems. \n",
    "\n",
    "Note that the instructions are for Linux and if you are using any other OS, you'll have to go through the official pages.\n",
    "\n",
    "Please go through [the official page first](https://github.com/RainerKuemmerle/g2o). If you are stuck, only then refer to the following points. Please install the requirements carefully before actual compilation.\n",
    "\n",
    "### Requirements\n",
    "As written [there](https://github.com/RainerKuemmerle/g2o#requirements), cmake & libeigen3-dev.\n",
    "\n",
    "Both of them can be installed via apt-get. Some useful commands:\n",
    "\n",
    "```\n",
    "sudo apt-get -y install cmake\n",
    "which cmake #check the installation\n",
    "cmake --version\n",
    "sudo apt-get install libeigen3-dev\n",
    "```\n",
    "\n",
    "`libeigen3-dev` will reside in `usr/include/eigen3/` if you followed the above. \"Optional requirements\" are not necessary for this project, but the 4 packages mentioned there can be installed via `apt-get` if you are interested. For example,\n",
    "```\n",
    "sudo apt-get install libsuitesparse-dev\n",
    "```\n",
    " \n",
    "### Compilation\n",
    "First clone the repository, then `cd` into it and follow the 4 steps [there](https://github.com/RainerKuemmerle/g2o#compilation). \n",
    "\n",
    "```\n",
    "mkdir build\n",
    "cd build\n",
    "cmake ../\n",
    "make\n",
    "```\n",
    "\n",
    "If you run into any issues, please open an [issue here](https://github.com/Shubodh/MR-project1-pgo/issues).\n",
    "\n",
    "After the above is successfully done, we want to call it from command-line via `g2o`. To do that, add the following to your `~/.bashrc`:\n",
    "```\n",
    "export PATH=$PATH:/your/path/here/g2o/bin/\n",
    "```\n",
    "For example,\n",
    "```\n",
    "export PATH=$PATH:/home/shubodh/packages/g2o/bin/\n",
    "```\n",
    "\n",
    "You can then call `g2o` from within your code via (You can instead even use `g2o_viewer` which allows you to do more than the following command, described in next section):\n",
    "```\n",
    "def g2o_call():\n",
    "    cmd = \"g2o -o opt.g2o given.g2o\"\n",
    "    os.system(cmd)\n",
    "```\n",
    "`given.g2o` is your given input to g2o optimizer and `opt.g2o` is its output. How to generate `given.g2o`?\n",
    "The given `edges.txt` is already in g2o format. Just rename it to `edges.g2o`, but it in its current state has only 1 pose (first). You have to generate the rest of the poses using the motion model (see main notebook) and write the rest of the poses just below the first pose. A sample g2o file is as follows:\n",
    "```\n",
    "VERTEX_SE2 0 -5.0 -8.0 0.0\n",
    "VERTEX_SE2 1 -4.55 -8.0 0.0\n",
    "...\n",
    "EDGE_SE2 0 1 0.4500000000000002 0.0 0.0 500.0 0.0 0.0 500.0 0.0 500.0\n",
    "EDGE_SE2 1 2 0.4500000000000002 0.0 0.0 500.0 0.0 0.0 500.0 0.0 500.0\n",
    "...\n",
    "FIX 0\n",
    "EDGE_SE2 0 80 -0.9499999999999993 -0.1999999999999993 0.0 700.0 0.0 0.0 700.0 0.0 700.0\n",
    "EDGE_SE2 2 82 -0.75 -0.1999999999999993 0.0 700.0 0.0 0.0 700.0 0.0 700.0\n",
    "\n",
    "```\n",
    "\n",
    "G2O's format is explained [link here](https://www.notion.so/saishubodh/G2O-Edge-Description-fa07cc28967541dc8a71170de46c5da7).\n",
    "\n",
    "### g2o viewer\n",
    "\n",
    "Using this viewer, you can see pose graph along with the loop closure edges. You can also directly optimize instead of using the command described above.\n",
    "\n",
    "```g2o_viewer file.g2o``` \n",
    "\n",
    "Controls: arrow keys/mouse\n",
    "\n",
    "It has various options which you can play around with before clicking on \"Optimize\". Don't worry, you are not expected to understand every option available there. But for questions asked, you will have to play around a bit before getting good results. You can see if it is \"good results\" or not from the image that I inserted in the main notebook.\n",
    "\n",
    "### g2o read/write helper functions"
   ]
  },
  {
   "cell_type": "code",
   "execution_count": null,
   "metadata": {},
   "outputs": [],
   "source": [
    "def readVertex(fileName):\n",
    "    f = open(fileName, 'r')\n",
    "    A = f.readlines()\n",
    "    f.close()\n",
    "\n",
    "    x_arr = []\n",
    "    y_arr = []\n",
    "    theta_arr = []\n",
    "\n",
    "    for line in A:\n",
    "        if \"VERTEX_SE2\" in line:\n",
    "            (ver, ind, x, y, theta) = line.split()\n",
    "            x_arr.append(float(x))\n",
    "            y_arr.append(float(y))\n",
    "            theta_arr.append(float(theta.rstrip('\\n')))\n",
    "\n",
    "    return jnp.array([x_arr, y_arr, theta_arr])\n",
    "\n",
    "def readEdge(fileName):\n",
    "    f = open(fileName, 'r')\n",
    "    A = f.readlines()\n",
    "    f.close()\n",
    "\n",
    "    ind1_arr = []\n",
    "    ind2_arr = []\n",
    "    del_x = []\n",
    "    del_y = []\n",
    "    del_theta = []\n",
    "\n",
    "    for line in A:\n",
    "        if \"EDGE_SE2\" in line:\n",
    "            (edge, ind1, ind2, dx, dy, dtheta, _, _, _, _, _, _) = line.split()\n",
    "            ind1_arr.append(int(ind1))\n",
    "            ind2_arr.append(int(ind2))\n",
    "            del_x.append(float(dx))\n",
    "            del_y.append(float(dy))\n",
    "            del_theta.append(float(dtheta))\n",
    "\n",
    "    return (jnp.array( ind1_arr), jnp.array(ind2_arr), jnp.array(del_x), jnp.array(del_y), jnp.array(del_theta))"
   ]
  },
  {
   "cell_type": "markdown",
   "metadata": {},
   "source": [
    "## 4. Misc Helper Functions"
   ]
  },
  {
   "cell_type": "code",
   "execution_count": null,
   "metadata": {},
   "outputs": [],
   "source": [
    "# Plotting trajectory using matplotlib\n",
    "def draw(X, Y, THETA):\n",
    "    ax = plt.subplot(111)\n",
    "    ax.plot(X, Y, 'ro')\n",
    "    plt.plot(X, Y, 'c-')\n",
    "\n",
    "    for i in range(len(THETA)):\n",
    "        x2 = 0.25*math.cos(THETA[i]) + X[i]\n",
    "        y2 = 0.25*math.sin(THETA[i]) + Y[i]\n",
    "        plt.plot([X[i], x2], [Y[i], y2], 'g->')\n",
    "\n",
    "    plt.show()"
   ]
  },
  {
   "cell_type": "code",
   "execution_count": null,
   "metadata": {},
   "outputs": [],
   "source": [
    "# Use this to check if your analystic calculation of gradient is correct (compared to jax's `jacfwd`)\n",
    "def frobNorm(P1, P2, str1=\"mat1\", str2=\"mat2\"):\n",
    "    jnp.set_printoptions(suppress=True)\n",
    "    val = jnp.linalg.norm(P1 - P2, 'fro')\n",
    "    print(f\"Frobenius norm between {str1} and {str2} is: {val}\")"
   ]
  }
 ],
 "metadata": {
  "kernelspec": {
   "display_name": "Python 3",
   "language": "python",
   "name": "python3"
  },
  "language_info": {
   "codemirror_mode": {
    "name": "ipython",
    "version": 3
   },
   "file_extension": ".py",
   "mimetype": "text/x-python",
   "name": "python",
   "nbconvert_exporter": "python",
   "pygments_lexer": "ipython3",
   "version": "3.7.7"
  }
 },
 "nbformat": 4,
 "nbformat_minor": 4
}
